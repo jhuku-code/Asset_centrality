{
 "cells": [
  {
   "cell_type": "markdown",
   "metadata": {},
   "source": [
    "# Asset centrality and sector rotation strategy"
   ]
  },
  {
   "cell_type": "code",
   "execution_count": 32,
   "metadata": {},
   "outputs": [],
   "source": [
    "%matplotlib inline\n",
    "\n",
    "import pandas as pd\n",
    "import numpy as np\n",
    "import matplotlib.pyplot as plt\n",
    "import seaborn as sns\n",
    "\n",
    "from sklearn.decomposition import PCA"
   ]
  },
  {
   "cell_type": "markdown",
   "metadata": {},
   "source": [
    "## Importing the price and P/B data and formatting it"
   ]
  },
  {
   "cell_type": "code",
   "execution_count": 21,
   "metadata": {},
   "outputs": [],
   "source": [
    "price_df = pd.read_csv('C:/Users/polosen/Documents/Jhuku Trading/Getbhavcopy Folder/Indices/Index_data.csv')\n",
    "price_df = price_df.loc[:,['Ticker','Date','Close']]"
   ]
  },
  {
   "cell_type": "code",
   "execution_count": 22,
   "metadata": {},
   "outputs": [
    {
     "data": {
      "text/html": [
       "<div>\n",
       "<style scoped>\n",
       "    .dataframe tbody tr th:only-of-type {\n",
       "        vertical-align: middle;\n",
       "    }\n",
       "\n",
       "    .dataframe tbody tr th {\n",
       "        vertical-align: top;\n",
       "    }\n",
       "\n",
       "    .dataframe thead th {\n",
       "        text-align: right;\n",
       "    }\n",
       "</style>\n",
       "<table border=\"1\" class=\"dataframe\">\n",
       "  <thead>\n",
       "    <tr style=\"text-align: right;\">\n",
       "      <th></th>\n",
       "      <th>Ticker</th>\n",
       "      <th>Date</th>\n",
       "      <th>Close</th>\n",
       "    </tr>\n",
       "  </thead>\n",
       "  <tbody>\n",
       "    <tr>\n",
       "      <th>0</th>\n",
       "      <td>NSEAUTO</td>\n",
       "      <td>20151106</td>\n",
       "      <td>8144.45</td>\n",
       "    </tr>\n",
       "    <tr>\n",
       "      <th>1</th>\n",
       "      <td>BANKNIFTY</td>\n",
       "      <td>20151106</td>\n",
       "      <td>17086.50</td>\n",
       "    </tr>\n",
       "    <tr>\n",
       "      <th>2</th>\n",
       "      <td>NSEENERGY</td>\n",
       "      <td>20151106</td>\n",
       "      <td>8168.45</td>\n",
       "    </tr>\n",
       "    <tr>\n",
       "      <th>3</th>\n",
       "      <td>NSEFINANCE</td>\n",
       "      <td>20151106</td>\n",
       "      <td>7027.65</td>\n",
       "    </tr>\n",
       "    <tr>\n",
       "      <th>4</th>\n",
       "      <td>NSEFMCG</td>\n",
       "      <td>20151106</td>\n",
       "      <td>20251.00</td>\n",
       "    </tr>\n",
       "  </tbody>\n",
       "</table>\n",
       "</div>"
      ],
      "text/plain": [
       "       Ticker      Date     Close\n",
       "0     NSEAUTO  20151106   8144.45\n",
       "1   BANKNIFTY  20151106  17086.50\n",
       "2   NSEENERGY  20151106   8168.45\n",
       "3  NSEFINANCE  20151106   7027.65\n",
       "4     NSEFMCG  20151106  20251.00"
      ]
     },
     "execution_count": 22,
     "metadata": {},
     "output_type": "execute_result"
    }
   ],
   "source": [
    "price_df.head()"
   ]
  },
  {
   "cell_type": "code",
   "execution_count": 23,
   "metadata": {},
   "outputs": [
    {
     "data": {
      "text/html": [
       "<div>\n",
       "<style scoped>\n",
       "    .dataframe tbody tr th:only-of-type {\n",
       "        vertical-align: middle;\n",
       "    }\n",
       "\n",
       "    .dataframe tbody tr th {\n",
       "        vertical-align: top;\n",
       "    }\n",
       "\n",
       "    .dataframe thead th {\n",
       "        text-align: right;\n",
       "    }\n",
       "</style>\n",
       "<table border=\"1\" class=\"dataframe\">\n",
       "  <thead>\n",
       "    <tr style=\"text-align: right;\">\n",
       "      <th></th>\n",
       "      <th>Ticker</th>\n",
       "      <th>Close</th>\n",
       "    </tr>\n",
       "    <tr>\n",
       "      <th>Date</th>\n",
       "      <th></th>\n",
       "      <th></th>\n",
       "    </tr>\n",
       "  </thead>\n",
       "  <tbody>\n",
       "    <tr>\n",
       "      <th>20151106</th>\n",
       "      <td>NSEAUTO</td>\n",
       "      <td>8144.45</td>\n",
       "    </tr>\n",
       "    <tr>\n",
       "      <th>20151106</th>\n",
       "      <td>BANKNIFTY</td>\n",
       "      <td>17086.50</td>\n",
       "    </tr>\n",
       "    <tr>\n",
       "      <th>20151106</th>\n",
       "      <td>NSEENERGY</td>\n",
       "      <td>8168.45</td>\n",
       "    </tr>\n",
       "    <tr>\n",
       "      <th>20151106</th>\n",
       "      <td>NSEFINANCE</td>\n",
       "      <td>7027.65</td>\n",
       "    </tr>\n",
       "    <tr>\n",
       "      <th>20151106</th>\n",
       "      <td>NSEFMCG</td>\n",
       "      <td>20251.00</td>\n",
       "    </tr>\n",
       "  </tbody>\n",
       "</table>\n",
       "</div>"
      ],
      "text/plain": [
       "              Ticker     Close\n",
       "Date                          \n",
       "20151106     NSEAUTO   8144.45\n",
       "20151106   BANKNIFTY  17086.50\n",
       "20151106   NSEENERGY   8168.45\n",
       "20151106  NSEFINANCE   7027.65\n",
       "20151106     NSEFMCG  20251.00"
      ]
     },
     "execution_count": 23,
     "metadata": {},
     "output_type": "execute_result"
    }
   ],
   "source": [
    "Dates = price_df['Date']  #Save dates for future use\n",
    "\n",
    "# Resetting the index to dates\n",
    "price_df.set_index('Date', inplace=True)\n",
    "price_df.head()"
   ]
  },
  {
   "cell_type": "code",
   "execution_count": 25,
   "metadata": {},
   "outputs": [],
   "source": [
    "## Spreading the data in matrix shape\n",
    "df = price_df.pivot_table(index = ['Date'], columns='Ticker', values='Close', fill_value=0)"
   ]
  },
  {
   "cell_type": "code",
   "execution_count": 26,
   "metadata": {},
   "outputs": [
    {
     "data": {
      "text/html": [
       "<div>\n",
       "<style scoped>\n",
       "    .dataframe tbody tr th:only-of-type {\n",
       "        vertical-align: middle;\n",
       "    }\n",
       "\n",
       "    .dataframe tbody tr th {\n",
       "        vertical-align: top;\n",
       "    }\n",
       "\n",
       "    .dataframe thead th {\n",
       "        text-align: right;\n",
       "    }\n",
       "</style>\n",
       "<table border=\"1\" class=\"dataframe\">\n",
       "  <thead>\n",
       "    <tr style=\"text-align: right;\">\n",
       "      <th>Ticker</th>\n",
       "      <th>BANKNIFTY</th>\n",
       "      <th>NSEAUTO</th>\n",
       "      <th>NSEENERGY</th>\n",
       "      <th>NSEFINANCE</th>\n",
       "      <th>NSEFMCG</th>\n",
       "      <th>NSEINFRA</th>\n",
       "      <th>NSEIT</th>\n",
       "      <th>NSEMEDIA</th>\n",
       "      <th>NSEMETAL</th>\n",
       "      <th>NSEPHARMA</th>\n",
       "    </tr>\n",
       "    <tr>\n",
       "      <th>Date</th>\n",
       "      <th></th>\n",
       "      <th></th>\n",
       "      <th></th>\n",
       "      <th></th>\n",
       "      <th></th>\n",
       "      <th></th>\n",
       "      <th></th>\n",
       "      <th></th>\n",
       "      <th></th>\n",
       "      <th></th>\n",
       "    </tr>\n",
       "  </thead>\n",
       "  <tbody>\n",
       "    <tr>\n",
       "      <th>20151106</th>\n",
       "      <td>17086.50</td>\n",
       "      <td>8144.45</td>\n",
       "      <td>8168.45</td>\n",
       "      <td>7027.65</td>\n",
       "      <td>20251.00</td>\n",
       "      <td>2775.85</td>\n",
       "      <td>11485.45</td>\n",
       "      <td>2336.90</td>\n",
       "      <td>1720.25</td>\n",
       "      <td>12226.65</td>\n",
       "    </tr>\n",
       "    <tr>\n",
       "      <th>20151109</th>\n",
       "      <td>17003.00</td>\n",
       "      <td>8246.20</td>\n",
       "      <td>8175.25</td>\n",
       "      <td>6967.90</td>\n",
       "      <td>20496.15</td>\n",
       "      <td>2740.60</td>\n",
       "      <td>11412.15</td>\n",
       "      <td>2315.30</td>\n",
       "      <td>1723.65</td>\n",
       "      <td>11989.05</td>\n",
       "    </tr>\n",
       "    <tr>\n",
       "      <th>20151110</th>\n",
       "      <td>16836.00</td>\n",
       "      <td>8257.70</td>\n",
       "      <td>7885.60</td>\n",
       "      <td>6896.55</td>\n",
       "      <td>20215.80</td>\n",
       "      <td>2689.95</td>\n",
       "      <td>11214.20</td>\n",
       "      <td>2295.85</td>\n",
       "      <td>1681.45</td>\n",
       "      <td>11618.30</td>\n",
       "    </tr>\n",
       "    <tr>\n",
       "      <th>20151111</th>\n",
       "      <td>16956.00</td>\n",
       "      <td>8303.95</td>\n",
       "      <td>7943.70</td>\n",
       "      <td>6945.45</td>\n",
       "      <td>20212.55</td>\n",
       "      <td>2715.05</td>\n",
       "      <td>11249.70</td>\n",
       "      <td>2339.60</td>\n",
       "      <td>1699.15</td>\n",
       "      <td>11752.90</td>\n",
       "    </tr>\n",
       "    <tr>\n",
       "      <th>20151113</th>\n",
       "      <td>16932.85</td>\n",
       "      <td>8178.30</td>\n",
       "      <td>7932.60</td>\n",
       "      <td>6941.65</td>\n",
       "      <td>19896.20</td>\n",
       "      <td>2687.35</td>\n",
       "      <td>11102.45</td>\n",
       "      <td>2274.00</td>\n",
       "      <td>1704.05</td>\n",
       "      <td>11640.55</td>\n",
       "    </tr>\n",
       "  </tbody>\n",
       "</table>\n",
       "</div>"
      ],
      "text/plain": [
       "Ticker    BANKNIFTY  NSEAUTO  NSEENERGY  NSEFINANCE   NSEFMCG  NSEINFRA  \\\n",
       "Date                                                                      \n",
       "20151106   17086.50  8144.45    8168.45     7027.65  20251.00   2775.85   \n",
       "20151109   17003.00  8246.20    8175.25     6967.90  20496.15   2740.60   \n",
       "20151110   16836.00  8257.70    7885.60     6896.55  20215.80   2689.95   \n",
       "20151111   16956.00  8303.95    7943.70     6945.45  20212.55   2715.05   \n",
       "20151113   16932.85  8178.30    7932.60     6941.65  19896.20   2687.35   \n",
       "\n",
       "Ticker       NSEIT  NSEMEDIA  NSEMETAL  NSEPHARMA  \n",
       "Date                                               \n",
       "20151106  11485.45   2336.90   1720.25   12226.65  \n",
       "20151109  11412.15   2315.30   1723.65   11989.05  \n",
       "20151110  11214.20   2295.85   1681.45   11618.30  \n",
       "20151111  11249.70   2339.60   1699.15   11752.90  \n",
       "20151113  11102.45   2274.00   1704.05   11640.55  "
      ]
     },
     "execution_count": 26,
     "metadata": {},
     "output_type": "execute_result"
    }
   ],
   "source": [
    "df.head()"
   ]
  },
  {
   "cell_type": "code",
   "execution_count": null,
   "metadata": {},
   "outputs": [],
   "source": [
    "## Repeat same exercise for P/B data\n",
    "#PB_df.set_index('Date', inplace=True)"
   ]
  },
  {
   "cell_type": "code",
   "execution_count": 27,
   "metadata": {},
   "outputs": [
    {
     "data": {
      "text/html": [
       "<div>\n",
       "<style scoped>\n",
       "    .dataframe tbody tr th:only-of-type {\n",
       "        vertical-align: middle;\n",
       "    }\n",
       "\n",
       "    .dataframe tbody tr th {\n",
       "        vertical-align: top;\n",
       "    }\n",
       "\n",
       "    .dataframe thead th {\n",
       "        text-align: right;\n",
       "    }\n",
       "</style>\n",
       "<table border=\"1\" class=\"dataframe\">\n",
       "  <thead>\n",
       "    <tr style=\"text-align: right;\">\n",
       "      <th>Ticker</th>\n",
       "      <th>BANKNIFTY</th>\n",
       "      <th>NSEAUTO</th>\n",
       "      <th>NSEENERGY</th>\n",
       "      <th>NSEFINANCE</th>\n",
       "      <th>NSEFMCG</th>\n",
       "      <th>NSEINFRA</th>\n",
       "      <th>NSEIT</th>\n",
       "      <th>NSEMEDIA</th>\n",
       "      <th>NSEMETAL</th>\n",
       "      <th>NSEPHARMA</th>\n",
       "    </tr>\n",
       "    <tr>\n",
       "      <th>Date</th>\n",
       "      <th></th>\n",
       "      <th></th>\n",
       "      <th></th>\n",
       "      <th></th>\n",
       "      <th></th>\n",
       "      <th></th>\n",
       "      <th></th>\n",
       "      <th></th>\n",
       "      <th></th>\n",
       "      <th></th>\n",
       "    </tr>\n",
       "  </thead>\n",
       "  <tbody>\n",
       "    <tr>\n",
       "      <th>20151109</th>\n",
       "      <td>-0.004887</td>\n",
       "      <td>0.012493</td>\n",
       "      <td>0.000832</td>\n",
       "      <td>-0.008502</td>\n",
       "      <td>0.012106</td>\n",
       "      <td>-0.012699</td>\n",
       "      <td>-0.006382</td>\n",
       "      <td>-0.009243</td>\n",
       "      <td>0.001976</td>\n",
       "      <td>-0.019433</td>\n",
       "    </tr>\n",
       "    <tr>\n",
       "      <th>20151110</th>\n",
       "      <td>-0.009822</td>\n",
       "      <td>0.001395</td>\n",
       "      <td>-0.035430</td>\n",
       "      <td>-0.010240</td>\n",
       "      <td>-0.013678</td>\n",
       "      <td>-0.018481</td>\n",
       "      <td>-0.017346</td>\n",
       "      <td>-0.008401</td>\n",
       "      <td>-0.024483</td>\n",
       "      <td>-0.030924</td>\n",
       "    </tr>\n",
       "    <tr>\n",
       "      <th>20151111</th>\n",
       "      <td>0.007128</td>\n",
       "      <td>0.005601</td>\n",
       "      <td>0.007368</td>\n",
       "      <td>0.007091</td>\n",
       "      <td>-0.000161</td>\n",
       "      <td>0.009331</td>\n",
       "      <td>0.003166</td>\n",
       "      <td>0.019056</td>\n",
       "      <td>0.010527</td>\n",
       "      <td>0.011585</td>\n",
       "    </tr>\n",
       "    <tr>\n",
       "      <th>20151113</th>\n",
       "      <td>-0.001365</td>\n",
       "      <td>-0.015131</td>\n",
       "      <td>-0.001397</td>\n",
       "      <td>-0.000547</td>\n",
       "      <td>-0.015651</td>\n",
       "      <td>-0.010202</td>\n",
       "      <td>-0.013089</td>\n",
       "      <td>-0.028039</td>\n",
       "      <td>0.002884</td>\n",
       "      <td>-0.009559</td>\n",
       "    </tr>\n",
       "    <tr>\n",
       "      <th>20151116</th>\n",
       "      <td>0.014885</td>\n",
       "      <td>0.001473</td>\n",
       "      <td>0.001387</td>\n",
       "      <td>0.008514</td>\n",
       "      <td>0.004541</td>\n",
       "      <td>0.010270</td>\n",
       "      <td>-0.008885</td>\n",
       "      <td>0.004683</td>\n",
       "      <td>0.009712</td>\n",
       "      <td>0.006052</td>\n",
       "    </tr>\n",
       "  </tbody>\n",
       "</table>\n",
       "</div>"
      ],
      "text/plain": [
       "Ticker    BANKNIFTY   NSEAUTO  NSEENERGY  NSEFINANCE   NSEFMCG  NSEINFRA  \\\n",
       "Date                                                                       \n",
       "20151109  -0.004887  0.012493   0.000832   -0.008502  0.012106 -0.012699   \n",
       "20151110  -0.009822  0.001395  -0.035430   -0.010240 -0.013678 -0.018481   \n",
       "20151111   0.007128  0.005601   0.007368    0.007091 -0.000161  0.009331   \n",
       "20151113  -0.001365 -0.015131  -0.001397   -0.000547 -0.015651 -0.010202   \n",
       "20151116   0.014885  0.001473   0.001387    0.008514  0.004541  0.010270   \n",
       "\n",
       "Ticker       NSEIT  NSEMEDIA  NSEMETAL  NSEPHARMA  \n",
       "Date                                               \n",
       "20151109 -0.006382 -0.009243  0.001976  -0.019433  \n",
       "20151110 -0.017346 -0.008401 -0.024483  -0.030924  \n",
       "20151111  0.003166  0.019056  0.010527   0.011585  \n",
       "20151113 -0.013089 -0.028039  0.002884  -0.009559  \n",
       "20151116 -0.008885  0.004683  0.009712   0.006052  "
      ]
     },
     "execution_count": 27,
     "metadata": {},
     "output_type": "execute_result"
    }
   ],
   "source": [
    "## Calculating daily returns from price data\n",
    "daily_ret = pd.DataFrame(df).pct_change(1).dropna()\n",
    "daily_ret.head()"
   ]
  },
  {
   "cell_type": "markdown",
   "metadata": {},
   "source": [
    "## Asset Centrality\n",
    "## 1. estimate Covariance matrix for each sector using 1Y lookback period (rolling)"
   ]
  },
  {
   "cell_type": "code",
   "execution_count": 28,
   "metadata": {},
   "outputs": [],
   "source": [
    "Omega = (pd.DataFrame(daily_ret)\n",
    "        .rolling(252)\n",
    "        .cov()\n",
    "        .dropna())\n",
    "\n",
    "dates = Omega.index.get_level_values(0)\n",
    "\n",
    "cov_matrix = dict(zip(dates, [Omega.loc[date].values for date in dates]))"
   ]
  },
  {
   "cell_type": "markdown",
   "metadata": {},
   "source": [
    "## 2. Use PCA on returns matrix for each time period (rolling)"
   ]
  },
  {
   "cell_type": "code",
   "execution_count": 37,
   "metadata": {},
   "outputs": [],
   "source": [
    "nrows, ncols = daily_ret.dropna().shape   # finding number of rows and columns\n",
    "window = 22  # setting the rolling window\n",
    "\n",
    "ncomp = 3 #setting number of PCA components\n",
    "\n",
    "ret_window = np.empty((252,11), dtype = float)  #intializing return matrix for rolling window\n",
    "\n",
    "results = []\n",
    "\n",
    "for i in range(len(daily_ret) - window + 1):\n",
    "    \n",
    "    pca = PCA(n_components = ncomp)\n",
    "    ret_window = daily_ret.iloc[i:(i+window)]\n",
    "    pca.fit(ret_window)\n",
    "    \n",
    "    # Dump components relations with features\n",
    "    pcacomp = pd.DataFrame(pca.components_, columns = daily_ret.columns, index = ['PC1', 'PC2', 'PC3'])\n",
    "    \n",
    "    # Calculate the Absorption ratio for each Eigen vector\n",
    "    AR = (pca.explained_variance_)/np.sum(pca.explained_variance_)\n",
    "    \n",
    "    np.cumsum(np.round(pca.explained_variance_, decimals =4)*100)\n",
    "    \n",
    "    pcacomp_T = pcacomp.T\n",
    "    \n",
    "    pcacomp_abs = pcacomp_T.abs()\n",
    " \n",
    "    # Calculating the variance from each sector as % of total variance explained by Eigen vector\n",
    "    weights = (pcacomp_abs/np.sum(pcacomp_abs)).T\n",
    "    \n",
    "    weights_array = weights.values  #Converting dataframe to Numpy array\n",
    "    \n",
    "    # Calculate Centrality score for for each sector\n",
    "    \n",
    "    CS = np.matmul(weights_array.T, AR)\n",
    "    \n",
    "    \n",
    "    results.append(CS)\n"
   ]
  },
  {
   "cell_type": "code",
   "execution_count": 38,
   "metadata": {},
   "outputs": [],
   "source": [
    "## Adding dates as an index to the Centrality score matrix\n",
    "\n",
    "select_date = Dates.iloc[window:len(daily_ret)+1]\n",
    "cs_df = pd.DataFrame(results, columns = daily_ret.columns, index = select_date)"
   ]
  },
  {
   "cell_type": "markdown",
   "metadata": {},
   "source": [
    "## 3. Normalize Centrality Scores "
   ]
  },
  {
   "cell_type": "code",
   "execution_count": 39,
   "metadata": {},
   "outputs": [],
   "source": [
    "window2 = 252\n",
    "\n",
    "#calculate rolling means and standard deviation\n",
    "\n",
    "roller1 = cs_df.rolling(window2)\n",
    "mean_list = roller1.mean().dropna()\n",
    "vol_list = roller1.std(ddof=0).dropna()\n",
    "\n",
    "subser = cs_df[(window2-1):]\n",
    "\n",
    "cs_norm = (subser - mean_list)/vol_list"
   ]
  },
  {
   "cell_type": "markdown",
   "metadata": {},
   "source": [
    "## Finding out the Relative Valuation of each sector\n",
    "## 1. Divide each sector's P/B by average"
   ]
  },
  {
   "cell_type": "code",
   "execution_count": null,
   "metadata": {},
   "outputs": [],
   "source": [
    "window3 = window + window2  #Set rolling window to match that of Centrality scores window\n",
    "\n",
    "# calculate each sector's average over rolling period \"window3\"\n",
    "roller2 = PB_df.rolling(window3)\n",
    "PB_list = roller2.mean().dropna()\n",
    "PB_subser = PB_df[(window3-1):]\n",
    "PB_norm = PB_subser/PB_list"
   ]
  },
  {
   "cell_type": "markdown",
   "metadata": {},
   "source": [
    "## 2. Dividing normalized P/B values for each sector by avg. across other sectors"
   ]
  },
  {
   "cell_type": "code",
   "execution_count": null,
   "metadata": {},
   "outputs": [],
   "source": [
    "HC_norm = (PB_norm.iloc[:,0] - PB_norm.iloc[:,-0]).mean()\n",
    "Fin_norm = (PB_norm.iloc[:,1] - PB_norm.iloc[:,-1]).mean()\n",
    ".......\n",
    "\n",
    "\n",
    "\n",
    "#Concatenating the series together\n",
    "\n",
    "RV_norm = pd.concat([HC_norm, Fin_norm, ....])"
   ]
  },
  {
   "cell_type": "markdown",
   "metadata": {},
   "source": [
    "## Charting heatmap of CS and RV scores"
   ]
  },
  {
   "cell_type": "code",
   "execution_count": 40,
   "metadata": {},
   "outputs": [
    {
     "ename": "AttributeError",
     "evalue": "module 'seaborn' has no attribute 'plt'",
     "output_type": "error",
     "traceback": [
      "\u001b[1;31m---------------------------------------------------------------------------\u001b[0m",
      "\u001b[1;31mAttributeError\u001b[0m                            Traceback (most recent call last)",
      "\u001b[1;32m<ipython-input-40-591d17fd4c4d>\u001b[0m in \u001b[0;36m<module>\u001b[1;34m\u001b[0m\n\u001b[0;32m      1\u001b[0m \u001b[0mplt\u001b[0m\u001b[1;33m.\u001b[0m\u001b[0mfigure\u001b[0m\u001b[1;33m(\u001b[0m\u001b[0mfigsize\u001b[0m\u001b[1;33m=\u001b[0m\u001b[1;33m(\u001b[0m\u001b[1;36m12\u001b[0m\u001b[1;33m,\u001b[0m\u001b[1;36m8\u001b[0m\u001b[1;33m)\u001b[0m\u001b[1;33m)\u001b[0m\u001b[1;33m\u001b[0m\u001b[1;33m\u001b[0m\u001b[0m\n\u001b[0;32m      2\u001b[0m \u001b[0msns\u001b[0m\u001b[1;33m.\u001b[0m\u001b[0mheatmap\u001b[0m\u001b[1;33m(\u001b[0m\u001b[0mcs_norm\u001b[0m\u001b[1;33m.\u001b[0m\u001b[0mT\u001b[0m\u001b[1;33m,\u001b[0m \u001b[0mxticklabels\u001b[0m\u001b[1;33m=\u001b[0m\u001b[1;36m25\u001b[0m\u001b[1;33m)\u001b[0m\u001b[1;33m\u001b[0m\u001b[1;33m\u001b[0m\u001b[0m\n\u001b[1;32m----> 3\u001b[1;33m \u001b[0msns\u001b[0m\u001b[1;33m.\u001b[0m\u001b[0mplt\u001b[0m\u001b[1;33m.\u001b[0m\u001b[0mshow\u001b[0m\u001b[1;33m(\u001b[0m\u001b[1;33m)\u001b[0m\u001b[1;33m\u001b[0m\u001b[1;33m\u001b[0m\u001b[0m\n\u001b[0m",
      "\u001b[1;31mAttributeError\u001b[0m: module 'seaborn' has no attribute 'plt'"
     ]
    },
    {
     "data": {
      "image/png": "[encoded data removed]",
      "text/plain": [
       "<Figure size 864x576 with 2 Axes>"
      ]
     },
     "metadata": {
      "needs_background": "light"
     },
     "output_type": "display_data"
    }
   ],
   "source": [
    "plt.figure(figsize=(12,8))\n",
    "sns.heatmap(cs_norm.T, xticklabels=25)\n",
    "sns.plt.show()"
   ]
  },
  {
   "cell_type": "code",
   "execution_count": null,
   "metadata": {},
   "outputs": [],
   "source": [
    "plt.figure(figsize=(12,8))\n",
    "sns.heatmap(RV_norm.T, xticklabels=25)\n",
    "sns.plt.show()"
   ]
  },
  {
   "cell_type": "code",
   "execution_count": null,
   "metadata": {},
   "outputs": [],
   "source": []
  },
  {
   "cell_type": "code",
   "execution_count": null,
   "metadata": {},
   "outputs": [],
   "source": []
  },
  {
   "cell_type": "code",
   "execution_count": null,
   "metadata": {},
   "outputs": [],
   "source": []
  },
  {
   "cell_type": "code",
   "execution_count": null,
   "metadata": {},
   "outputs": [],
   "source": []
  }
 ],
 "metadata": {
  "kernelspec": {
   "display_name": "Python 3",
   "language": "python",
   "name": "python3"
  },
  "language_info": {
   "codemirror_mode": {
    "name": "ipython",
    "version": 3
   },
   "file_extension": ".py",
   "mimetype": "text/x-python",
   "name": "python",
   "nbconvert_exporter": "python",
   "pygments_lexer": "ipython3",
   "version": "3.7.3"
  }
 },
 "nbformat": 4,
 "nbformat_minor": 2
}
